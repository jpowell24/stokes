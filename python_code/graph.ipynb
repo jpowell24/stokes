{
 "cells": [
  {
   "cell_type": "code",
   "execution_count": null,
   "metadata": {},
   "outputs": [],
   "source": [
    "import pandas as pd\n",
    "import numpy as np\n",
    "import matplotlib.pyplot as plt\n",
    "import matplotlib.patches as mpatches\n",
    "color_list =[\"#3eb991\",\"#e9a820\",\"#e01563\",\"#edb196\",\"#6ecadc\",\"#1f94ac\",\"#ae9a6a\",\"#ccb8a6\",\"#343a44\"]"
   ]
  },
  {
   "cell_type": "code",
   "execution_count": null,
   "metadata": {},
   "outputs": [],
   "source": [
    "null_df = pd.DataFrame(pd.read_csv(\"data_files/plot.csv\"))"
   ]
  },
  {
   "cell_type": "code",
   "execution_count": null,
   "metadata": {},
   "outputs": [],
   "source": [
    "fig, ax = plt.subplots()\n",
    "\n",
    "x5 = null_df[\"i\"].dropna().to_numpy() \n",
    "y5 =  null_df[\"j\"].dropna().to_numpy()\n",
    "\n",
    "x6 = null_df[\"u\"].dropna().to_numpy() \n",
    "y6 =  null_df[\"v\"].dropna().to_numpy()\n",
    "\n",
    "circle = plt.Circle((0, 0), 1)\n",
    "ax.add_patch(circle)\n",
    "\n",
    "plt.quiver(x5,y5,x6,y6)\n",
    "\n",
    "t = \"Stoked\"\n",
    "plt.plot()\n",
    "plt.xlabel('y')\n",
    "plt.ylabel('x')\n",
    "ax.set_title(t)\n",
    "ax.set_aspect('equal', adjustable='box')\n",
    "plt.tight_layout()"
   ]
  }
 ],
 "metadata": {
  "kernelspec": {
   "display_name": "Python 3",
   "language": "python",
   "name": "python3"
  },
  "language_info": {
   "codemirror_mode": {
    "name": "ipython",
    "version": 3
   },
   "file_extension": ".py",
   "mimetype": "text/x-python",
   "name": "python",
   "nbconvert_exporter": "python",
   "pygments_lexer": "ipython3",
   "version": "3.9.6"
  },
  "orig_nbformat": 4
 },
 "nbformat": 4,
 "nbformat_minor": 2
}
