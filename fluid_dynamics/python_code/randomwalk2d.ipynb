{
 "cells": [
  {
   "cell_type": "code",
   "execution_count": null,
   "metadata": {},
   "outputs": [],
   "source": [
    "import pandas as pd\n",
    "import numpy as np\n",
    "import matplotlib.pyplot as plt\n",
    "import matplotlib.patches as mpatches\n",
    "color_list =[\"#3eb991\",\"#e9a820\",\"#e01563\",\"#edb196\",\"#6ecadc\",\"#1f94ac\",\"#ae9a6a\",\"#ccb8a6\",\"#343a44\"]\n",
    "import csv"
   ]
  },
  {
   "cell_type": "code",
   "execution_count": null,
   "metadata": {},
   "outputs": [],
   "source": [
    "# walk2d_df = pd.DataFrame(pd.read_csv(\"../data_files/randomwalk2d.csv\", index_col=0, header=None))\n",
    "df = pd.DataFrame(pd.read_csv(\"../data_files/randomwalk2d.csv\"))\n",
    "print(df)"
   ]
  },
  {
   "cell_type": "code",
   "execution_count": null,
   "metadata": {},
   "outputs": [],
   "source": [
    "fig, ax = plt.subplots()\n",
    "\n",
    "x = df[\"x\"]\n",
    "y =  df[\"y\"]\n",
    "\n",
    "t = \"path\"\n",
    "# plt.plot(x,y, marker='o', ms=1, linestyle='None')\n",
    "plt.plot(x,y)\n",
    "plt.xlabel('x')\n",
    "plt.ylabel('y')\n",
    "ax.set_title(t)\n",
    "ax.set_aspect('equal', adjustable='box')\n",
    "plt.tight_layout()"
   ]
  },
  {
   "cell_type": "code",
   "execution_count": null,
   "metadata": {},
   "outputs": [],
   "source": [
    "t = \"path\"\n",
    "# plt.plot(x,y, marker='o', ms=1, linestyle='None')\n",
    "plt.xlabel('x')\n",
    "plt.ylabel('y')\n",
    "ax.set_title(t)\n",
    "ax.set_aspect('equal', adjustable='box')\n",
    "plt.tight_layout()\n",
    "\n",
    "model1 = np.poly1d(np.polyfit(df.x, df.y, 1))\n",
    "model2 = np.poly1d(np.polyfit(df.x, df.y, 2))\n",
    "model3 = np.poly1d(np.polyfit(df.x, df.y, 3))\n",
    "model4 = np.poly1d(np.polyfit(df.x, df.y, 4))\n",
    "model5 = np.poly1d(np.polyfit(df.x, df.y, 5))\n",
    "model100 = np.poly1d(np.polyfit(df.x, df.y, 100))\n",
    "\n",
    "#create scatterplot\n",
    "polyline = np.linspace(490, 510, 100)\n",
    "plt.scatter(df.x, df.y)\n",
    "\n",
    "#add fitted polynomial lines to scatterplot \n",
    "plt.plot(polyline, model1(polyline), color='green')\n",
    "plt.plot(polyline, model2(polyline), color='red')\n",
    "plt.plot(polyline, model3(polyline), color='purple')\n",
    "plt.plot(polyline, model4(polyline), color='blue')\n",
    "plt.plot(polyline, model5(polyline), color='orange')\n",
    "plt.plot(polyline, model100(polyline), color='black')\n",
    "plt.show()\n",
    "\n",
    "#define function to calculate adjusted r-squared\n",
    "def adjR(x, y, degree):\n",
    "    results = {}\n",
    "    coeffs = np.polyfit(x, y, degree)\n",
    "    p = np.poly1d(coeffs)\n",
    "    yhat = p(x)\n",
    "    ybar = np.sum(y)/len(y)\n",
    "    ssreg = np.sum((yhat-ybar)**2)\n",
    "    sstot = np.sum((y - ybar)**2)\n",
    "    results['r_squared'] = 1- (((1-(ssreg/sstot))*(len(y)-1))/(len(y)-degree-1))\n",
    "\n",
    "    return results\n",
    "\n",
    "#calculated adjusted R-squared of each model\n",
    "print(adjR(df.x, df.y, 1))\n",
    "print(adjR(df.x, df.y, 2))\n",
    "print(adjR(df.x, df.y, 3))\n",
    "print(adjR(df.x, df.y, 4))\n",
    "print(adjR(df.x, df.y, 5))\n",
    "print(adjR(df.x, df.y, 100))"
   ]
  }
 ],
 "metadata": {
  "kernelspec": {
   "display_name": "Python 3",
   "language": "python",
   "name": "python3"
  },
  "language_info": {
   "codemirror_mode": {
    "name": "ipython",
    "version": 3
   },
   "file_extension": ".py",
   "mimetype": "text/x-python",
   "name": "python",
   "nbconvert_exporter": "python",
   "pygments_lexer": "ipython3",
   "version": "3.9.6"
  },
  "orig_nbformat": 4
 },
 "nbformat": 4,
 "nbformat_minor": 2
}
