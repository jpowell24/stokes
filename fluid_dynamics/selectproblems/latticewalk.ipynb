{
 "cells": [
  {
   "cell_type": "code",
   "execution_count": null,
   "metadata": {},
   "outputs": [],
   "source": [
    "import pandas as pd\n",
    "import numpy as np\n",
    "import matplotlib.pyplot as plt\n",
    "import matplotlib.patches as mpatches\n",
    "color_list =[\"#3eb991\",\"#e9a820\",\"#e01563\",\"#edb196\",\"#6ecadc\",\"#1f94ac\",\"#ae9a6a\",\"#ccb8a6\",\"#343a44\"]\n",
    "import csv"
   ]
  },
  {
   "cell_type": "code",
   "execution_count": null,
   "metadata": {},
   "outputs": [],
   "source": [
    "# walk2d_df = pd.DataFrame(pd.read_csv(\"../data_files/randomwalk2d.csv\", index_col=0, header=None))\n",
    "df = pd.DataFrame(pd.read_csv(\"../data_files/latticewalk.csv\"))\n",
    "print(df)"
   ]
  },
  {
   "cell_type": "code",
   "execution_count": null,
   "metadata": {},
   "outputs": [],
   "source": [
    "# fig, ax = plt.subplots()\n",
    "\n",
    "# x = df[\"x\"]\n",
    "# y = df[\"y\"]\n",
    "\n",
    "# t = \"path\"\n",
    "# # plt.plot(x,y, marker='o', ms=1, linestyle='None')\n",
    "# plt.plot(x,y)\n",
    "# plt.xlabel('x')\n",
    "# plt.ylabel('y')\n",
    "# ax.set_title(t)\n",
    "# ax.set_aspect('equal', adjustable='box')\n",
    "# plt.tight_layout()"
   ]
  },
  {
   "cell_type": "code",
   "execution_count": null,
   "metadata": {},
   "outputs": [],
   "source": [
    "j = df[\"x\"].to_numpy()\n",
    "\n",
    "plt.hist(j, bins = 20)\n",
    "plt.xlabel('x position')\n",
    "\n",
    "plt.show()"
   ]
  },
  {
   "cell_type": "code",
   "execution_count": null,
   "metadata": {},
   "outputs": [],
   "source": [
    "j = df[\"meansquared\"].to_numpy()\n",
    "\n",
    "plt.hist(j, bins = 20)\n",
    "plt.xlabel('meansquared')\n",
    "\n",
    "d_eff = np.median(j) / (4 * 1000)\n",
    "\n",
    "print(np.median(j))\n",
    "print(d_eff)\n",
    "\n",
    "plt.show()"
   ]
  },
  {
   "cell_type": "code",
   "execution_count": null,
   "metadata": {},
   "outputs": [],
   "source": [
    "x_list = []\n",
    "avg_list = []\n",
    "\n",
    "for cols in df:\n",
    "    avg_list.append(df[cols].mean())\n",
    "\n",
    "print(\"avg: \"), avg_list\n",
    "\n",
    "fig, ax = plt.subplots()\n",
    "\n",
    "y = avg_list\n",
    "x = np.linspace(0, 101, 101)\n",
    "\n",
    "plt.plot(x,y)\n",
    "plt.ylabel('mean squared displacement')\n",
    "plt.tight_layout()"
   ]
  }
 ],
 "metadata": {
  "kernelspec": {
   "display_name": "Python 3",
   "language": "python",
   "name": "python3"
  },
  "language_info": {
   "codemirror_mode": {
    "name": "ipython",
    "version": 3
   },
   "file_extension": ".py",
   "mimetype": "text/x-python",
   "name": "python",
   "nbconvert_exporter": "python",
   "pygments_lexer": "ipython3",
   "version": "3.9.6"
  },
  "orig_nbformat": 4
 },
 "nbformat": 4,
 "nbformat_minor": 2
}
