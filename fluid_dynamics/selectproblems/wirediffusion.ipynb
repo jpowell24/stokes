{
 "cells": [
  {
   "cell_type": "code",
   "execution_count": null,
   "metadata": {},
   "outputs": [],
   "source": [
    "import pandas as pd\n",
    "import numpy as np\n",
    "import matplotlib.pyplot as plt\n",
    "import matplotlib.patches as mpatches\n",
    "color_list =[\"#3eb991\",\"#e9a820\",\"#e01563\",\"#edb196\",\"#6ecadc\",\"#1f94ac\",\"#ae9a6a\",\"#ccb8a6\",\"#343a44\"]\n",
    "import csv"
   ]
  },
  {
   "cell_type": "code",
   "execution_count": null,
   "metadata": {},
   "outputs": [],
   "source": [
    "df = pd.DataFrame(pd.read_csv(\"../data_files/wirediffusion.csv\", index_col=0, header=None))"
   ]
  },
  {
   "cell_type": "code",
   "execution_count": null,
   "metadata": {},
   "outputs": [],
   "source": [
    "fig, ax = plt.subplots()\n",
    "\n",
    "transpose = df.transpose()\n",
    "transpose = transpose.dropna()\n",
    "\n",
    "print(transpose)\n",
    "\n",
    "x = transpose[\"length\"]\n",
    "y1 = transpose[\"y0\"]\n",
    "y5 = transpose[\"y50000\"]\n",
    "y10 = transpose[\"y100000\"]\n",
    "\n",
    "plt.plot(x,y1)\n",
    "plt.plot(x,y5)\n",
    "plt.plot(x,y10)\n",
    "plt.xlabel('length')\n",
    "plt.ylabel('concentration')\n",
    "plt.tight_layout()"
   ]
  }
 ],
 "metadata": {
  "kernelspec": {
   "display_name": "Python 3",
   "language": "python",
   "name": "python3"
  },
  "language_info": {
   "codemirror_mode": {
    "name": "ipython",
    "version": 3
   },
   "file_extension": ".py",
   "mimetype": "text/x-python",
   "name": "python",
   "nbconvert_exporter": "python",
   "pygments_lexer": "ipython3",
   "version": "3.9.6"
  },
  "orig_nbformat": 4
 },
 "nbformat": 4,
 "nbformat_minor": 2
}
