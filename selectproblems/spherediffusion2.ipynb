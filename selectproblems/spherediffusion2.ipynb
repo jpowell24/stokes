{
 "cells": [
  {
   "cell_type": "code",
   "execution_count": null,
   "metadata": {},
   "outputs": [],
   "source": [
    "import pandas as pd\n",
    "import numpy as np\n",
    "import matplotlib.pyplot as plt\n",
    "import matplotlib.patches as mpatches\n",
    "color_list =[\"#3eb991\",\"#e9a820\",\"#e01563\",\"#edb196\",\"#6ecadc\",\"#1f94ac\",\"#ae9a6a\",\"#ccb8a6\",\"#343a44\"]\n",
    "import csv"
   ]
  },
  {
   "cell_type": "code",
   "execution_count": null,
   "metadata": {},
   "outputs": [],
   "source": [
    "# walk2d_df = pd.DataFrame(pd.read_csv(\"../data_files/randomwalk2d.csv\", index_col=0, header=None))\n",
    "df = pd.DataFrame(pd.read_csv(\"../data_files/spherediffusion2.csv\"))\n",
    "print(df)"
   ]
  },
  {
   "cell_type": "code",
   "execution_count": null,
   "metadata": {},
   "outputs": [],
   "source": [
    "fig, ax = plt.subplots()\n",
    "\n",
    "x = df[\"x\"]\n",
    "y =  df[\"y\"]\n",
    "\n",
    "t = \"path\"\n",
    "# plt.plot(x,y, marker='o', ms=1, linestyle='None')\n",
    "plt.plot(x,y)\n",
    "plt.xlabel('x')\n",
    "plt.ylabel('y')\n",
    "ax.set_title(t)\n",
    "ax.set_aspect('equal', adjustable='box')\n",
    "plt.tight_layout()"
   ]
  },
  {
   "cell_type": "code",
   "execution_count": null,
   "metadata": {},
   "outputs": [],
   "source": [
    "# t = \"path\"\n",
    "# plt.xlabel('x')\n",
    "# plt.ylabel('y')\n",
    "# ax.set_title(t)\n",
    "# plt.tight_layout()\n",
    "\n",
    "# model1 = np.poly1d(np.polyfit(df.x, df.y, 1))\n",
    "\n",
    "# polyline = np.linspace(x[1], x[[len(x)-1]], len(x))\n",
    "# print(len(x))\n",
    "# print(x[len(x)-1])\n",
    "\n",
    "# plt.scatter(df.x, df.y)\n",
    "\n",
    "# plt.plot(polyline, model1(polyline), color='green')\n",
    "\n",
    "# def adjR(x, y, degree):\n",
    "#     results = {}\n",
    "#     coeffs = np.polyfit(x, y, degree)\n",
    "#     p = np.poly1d(coeffs)\n",
    "#     yhat = p(x)\n",
    "#     ybar = np.sum(y)/len(y)\n",
    "#     ssreg = np.sum((yhat-ybar)**2)\n",
    "#     sstot = np.sum((y - ybar)**2)\n",
    "#     results['r_squared'] = 1- (((1-(ssreg/sstot))*(len(y)-1))/(len(y)-degree-1))\n",
    "\n",
    "#     return results\n",
    "\n",
    "# #calculated adjusted R-squared of each model\n",
    "# print(adjR(df.x, df.y, 1))"
   ]
  }
 ],
 "metadata": {
  "kernelspec": {
   "display_name": "Python 3",
   "language": "python",
   "name": "python3"
  },
  "language_info": {
   "codemirror_mode": {
    "name": "ipython",
    "version": 3
   },
   "file_extension": ".py",
   "mimetype": "text/x-python",
   "name": "python",
   "nbconvert_exporter": "python",
   "pygments_lexer": "ipython3",
   "version": "3.9.6"
  },
  "orig_nbformat": 4
 },
 "nbformat": 4,
 "nbformat_minor": 2
}
