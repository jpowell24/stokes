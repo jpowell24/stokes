{
 "cells": [
  {
   "cell_type": "code",
   "execution_count": null,
   "metadata": {},
   "outputs": [],
   "source": [
    "import pandas as pd\n",
    "import numpy as np\n",
    "import matplotlib.pyplot as plt\n",
    "\n",
    "\n",
    "w = 5;\n",
    "y, x = np.mgrid[-w:w:100j, -w:w:100j];\n",
    "\n",
    "a = 1; \n",
    "velocity = -2; \n",
    "r = pow((pow(x,2) + pow(y,2)),0.5);\n",
    "\n",
    "U = (0.75 * a) * ((velocity / r) + ((velocity * x * x) / pow(r,3))) + (0.25 * pow(a,3)) * (velocity / pow(r,3) - ((3 * velocity * x * x) / (pow(r,5))));\n",
    "V = (0.75 * a) * ((velocity * x * y) / pow(r,3)) + (0.25 * pow(a,3)) * ((-3 * U * x * y) / (pow(r,5)));\n",
    "\n",
    "speed = pow(pow(U,2) + pow(V,2),0.5);\n",
    "\n",
    "plt.subplot(1, 2, 1);\n",
    "plt.streamplot(x, y, U, V, density = 1, color = \"green\", linewidth = 0.5);\n",
    "plt.gca().set_aspect('equal');\n",
    " \n",
    "U = U / speed;\n",
    "V = V / speed;\n",
    "\n",
    "plt.subplot(1, 2, 2);\n",
    "plt.quiver(x[::5, ::5], y[::5, ::5], U[::5, ::5], V[::5,::5]);\n",
    "plt.gca().set_aspect('equal');\n",
    "\n",
    "plt.show();"
   ]
  }
 ],
 "metadata": {
  "kernelspec": {
   "display_name": "Python 3",
   "language": "python",
   "name": "python3"
  },
  "language_info": {
   "codemirror_mode": {
    "name": "ipython",
    "version": 3
   },
   "file_extension": ".py",
   "mimetype": "text/x-python",
   "name": "python",
   "nbconvert_exporter": "python",
   "pygments_lexer": "ipython3",
   "version": "3.9.6"
  },
  "orig_nbformat": 4
 },
 "nbformat": 4,
 "nbformat_minor": 2
}
