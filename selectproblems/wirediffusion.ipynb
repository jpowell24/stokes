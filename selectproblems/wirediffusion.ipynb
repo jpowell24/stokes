{
 "cells": [
  {
   "cell_type": "code",
   "execution_count": 142,
   "metadata": {},
   "outputs": [],
   "source": [
    "import pandas as pd\n",
    "import numpy as np\n",
    "import matplotlib.pyplot as plt\n",
    "import matplotlib.patches as mpatches\n",
    "color_list =[\"#3eb991\",\"#e9a820\",\"#e01563\",\"#edb196\",\"#6ecadc\",\"#1f94ac\",\"#ae9a6a\",\"#ccb8a6\",\"#343a44\"]\n",
    "import csv"
   ]
  },
  {
   "cell_type": "code",
   "execution_count": 143,
   "metadata": {},
   "outputs": [],
   "source": [
    "df = pd.DataFrame(pd.read_csv(\"../data_files/wirediffusion.csv\", index_col=0, header=None))"
   ]
  },
  {
   "cell_type": "code",
   "execution_count": 144,
   "metadata": {},
   "outputs": [
    {
     "name": "stdout",
     "output_type": "stream",
     "text": [
      "0    length        y0       y10       y20       y30       y40       y50  \\\n",
      "1      0.00  0.100000  0.100000  0.100000  0.100000  0.100000  0.100000   \n",
      "2      0.01  0.014558  0.023554  0.030929  0.037049  0.042186  0.046546   \n",
      "3      0.02  0.029067  0.029058  0.029859  0.031178  0.032816  0.034637   \n",
      "4      0.03  0.043476  0.043463  0.043450  0.043509  0.043675  0.043958   \n",
      "5      0.04  0.057738  0.057720  0.057703  0.057685  0.057674  0.057678   \n",
      "..      ...       ...       ...       ...       ...       ...       ...   \n",
      "96     0.95  0.128197  0.128219  0.128240  0.128262  0.128272  0.128254   \n",
      "97     0.96  0.142262  0.142280  0.142297  0.142180  0.141865  0.141334   \n",
      "98     0.97  0.156524  0.156537  0.155048  0.152598  0.149557  0.146178   \n",
      "99     0.98  0.170933  0.154252  0.140575  0.129226  0.119699  0.111614   \n",
      "100    0.99  0.000000  0.000000  0.000000  0.000000  0.000000  0.000000   \n",
      "\n",
      "0         y60       y70       y80  ...     y9910     y9920     y9930  \\\n",
      "1    0.100000  0.100000  0.100000  ...  0.100000  0.100000  0.100000   \n",
      "2    0.050285  0.053523  0.056353  ...  0.104864  0.104864  0.104864   \n",
      "3    0.036548  0.038487  0.040413  ...  0.109726  0.109726  0.109725   \n",
      "4    0.044354  0.044853  0.045442  ...  0.114585  0.114584  0.114584   \n",
      "5    0.057704  0.057760  0.057849  ...  0.119438  0.119437  0.119436   \n",
      "..        ...       ...       ...  ...       ...       ...       ...   \n",
      "96   0.128194  0.128080  0.127903  ...  0.002438  0.002430  0.002421   \n",
      "97   0.140593  0.139660  0.138561  ...  0.001916  0.001909  0.001903   \n",
      "98   0.142631  0.139032  0.135456  ...  0.001320  0.001315  0.001311   \n",
      "99   0.104679  0.098674  0.093425  ...  0.000673  0.000670  0.000668   \n",
      "100  0.000000  0.000000  0.000000  ...  0.000000  0.000000  0.000000   \n",
      "\n",
      "0       y9940     y9950     y9960     y9970     y9980     y9990    y10000  \n",
      "1    0.100000  0.100000  0.100000  0.100000  0.100000  0.100000  0.100000  \n",
      "2    0.104863  0.104863  0.104863  0.104863  0.104863  0.104863  0.104862  \n",
      "3    0.109725  0.109725  0.109724  0.109724  0.109724  0.109723  0.109723  \n",
      "4    0.114583  0.114583  0.114582  0.114582  0.114581  0.114580  0.114580  \n",
      "5    0.119435  0.119434  0.119433  0.119432  0.119431  0.119430  0.119429  \n",
      "..        ...       ...       ...       ...       ...       ...       ...  \n",
      "96   0.002413  0.002405  0.002396  0.002388  0.002379  0.002371  0.002363  \n",
      "97   0.001896  0.001889  0.001883  0.001876  0.001870  0.001863  0.001857  \n",
      "98   0.001306  0.001302  0.001297  0.001293  0.001288  0.001284  0.001279  \n",
      "99   0.000666  0.000663  0.000661  0.000659  0.000657  0.000654  0.000652  \n",
      "100  0.000000  0.000000  0.000000  0.000000  0.000000  0.000000  0.000000  \n",
      "\n",
      "[100 rows x 1002 columns]\n"
     ]
    },
    {
     "ename": "KeyError",
     "evalue": "'y50000'",
     "output_type": "error",
     "traceback": [
      "\u001b[0;31m---------------------------------------------------------------------------\u001b[0m",
      "\u001b[0;31mKeyError\u001b[0m                                  Traceback (most recent call last)",
      "File \u001b[0;32m~/Library/Python/3.9/lib/python/site-packages/pandas/core/indexes/base.py:3790\u001b[0m, in \u001b[0;36mIndex.get_loc\u001b[0;34m(self, key)\u001b[0m\n\u001b[1;32m   3789\u001b[0m \u001b[39mtry\u001b[39;00m:\n\u001b[0;32m-> 3790\u001b[0m     \u001b[39mreturn\u001b[39;00m \u001b[39mself\u001b[39;49m\u001b[39m.\u001b[39;49m_engine\u001b[39m.\u001b[39;49mget_loc(casted_key)\n\u001b[1;32m   3791\u001b[0m \u001b[39mexcept\u001b[39;00m \u001b[39mKeyError\u001b[39;00m \u001b[39mas\u001b[39;00m err:\n",
      "File \u001b[0;32mindex.pyx:152\u001b[0m, in \u001b[0;36mpandas._libs.index.IndexEngine.get_loc\u001b[0;34m()\u001b[0m\n",
      "File \u001b[0;32mindex.pyx:181\u001b[0m, in \u001b[0;36mpandas._libs.index.IndexEngine.get_loc\u001b[0;34m()\u001b[0m\n",
      "File \u001b[0;32mpandas/_libs/hashtable_class_helper.pxi:7080\u001b[0m, in \u001b[0;36mpandas._libs.hashtable.PyObjectHashTable.get_item\u001b[0;34m()\u001b[0m\n",
      "File \u001b[0;32mpandas/_libs/hashtable_class_helper.pxi:7088\u001b[0m, in \u001b[0;36mpandas._libs.hashtable.PyObjectHashTable.get_item\u001b[0;34m()\u001b[0m\n",
      "\u001b[0;31mKeyError\u001b[0m: 'y50000'",
      "\nThe above exception was the direct cause of the following exception:\n",
      "\u001b[0;31mKeyError\u001b[0m                                  Traceback (most recent call last)",
      "\u001b[1;32m/Users/jacksonpowell/Documents/GitHub/stokes/selectproblems/wirediffusion.ipynb Cell 3\u001b[0m line \u001b[0;36m1\n\u001b[1;32m      <a href='vscode-notebook-cell:/Users/jacksonpowell/Documents/GitHub/stokes/selectproblems/wirediffusion.ipynb#W2sZmlsZQ%3D%3D?line=7'>8</a>\u001b[0m x \u001b[39m=\u001b[39m transpose[\u001b[39m\"\u001b[39m\u001b[39mlength\u001b[39m\u001b[39m\"\u001b[39m]\n\u001b[1;32m      <a href='vscode-notebook-cell:/Users/jacksonpowell/Documents/GitHub/stokes/selectproblems/wirediffusion.ipynb#W2sZmlsZQ%3D%3D?line=8'>9</a>\u001b[0m y1 \u001b[39m=\u001b[39m transpose[\u001b[39m\"\u001b[39m\u001b[39my0\u001b[39m\u001b[39m\"\u001b[39m]\n\u001b[0;32m---> <a href='vscode-notebook-cell:/Users/jacksonpowell/Documents/GitHub/stokes/selectproblems/wirediffusion.ipynb#W2sZmlsZQ%3D%3D?line=9'>10</a>\u001b[0m y5 \u001b[39m=\u001b[39m transpose[\u001b[39m\"\u001b[39;49m\u001b[39my50000\u001b[39;49m\u001b[39m\"\u001b[39;49m]\n\u001b[1;32m     <a href='vscode-notebook-cell:/Users/jacksonpowell/Documents/GitHub/stokes/selectproblems/wirediffusion.ipynb#W2sZmlsZQ%3D%3D?line=10'>11</a>\u001b[0m y10 \u001b[39m=\u001b[39m transpose[\u001b[39m\"\u001b[39m\u001b[39my10000\u001b[39m\u001b[39m\"\u001b[39m]\n\u001b[1;32m     <a href='vscode-notebook-cell:/Users/jacksonpowell/Documents/GitHub/stokes/selectproblems/wirediffusion.ipynb#W2sZmlsZQ%3D%3D?line=12'>13</a>\u001b[0m plt\u001b[39m.\u001b[39mplot(x,y1)\n",
      "File \u001b[0;32m~/Library/Python/3.9/lib/python/site-packages/pandas/core/frame.py:3896\u001b[0m, in \u001b[0;36mDataFrame.__getitem__\u001b[0;34m(self, key)\u001b[0m\n\u001b[1;32m   3894\u001b[0m \u001b[39mif\u001b[39;00m \u001b[39mself\u001b[39m\u001b[39m.\u001b[39mcolumns\u001b[39m.\u001b[39mnlevels \u001b[39m>\u001b[39m \u001b[39m1\u001b[39m:\n\u001b[1;32m   3895\u001b[0m     \u001b[39mreturn\u001b[39;00m \u001b[39mself\u001b[39m\u001b[39m.\u001b[39m_getitem_multilevel(key)\n\u001b[0;32m-> 3896\u001b[0m indexer \u001b[39m=\u001b[39m \u001b[39mself\u001b[39;49m\u001b[39m.\u001b[39;49mcolumns\u001b[39m.\u001b[39;49mget_loc(key)\n\u001b[1;32m   3897\u001b[0m \u001b[39mif\u001b[39;00m is_integer(indexer):\n\u001b[1;32m   3898\u001b[0m     indexer \u001b[39m=\u001b[39m [indexer]\n",
      "File \u001b[0;32m~/Library/Python/3.9/lib/python/site-packages/pandas/core/indexes/base.py:3797\u001b[0m, in \u001b[0;36mIndex.get_loc\u001b[0;34m(self, key)\u001b[0m\n\u001b[1;32m   3792\u001b[0m     \u001b[39mif\u001b[39;00m \u001b[39misinstance\u001b[39m(casted_key, \u001b[39mslice\u001b[39m) \u001b[39mor\u001b[39;00m (\n\u001b[1;32m   3793\u001b[0m         \u001b[39misinstance\u001b[39m(casted_key, abc\u001b[39m.\u001b[39mIterable)\n\u001b[1;32m   3794\u001b[0m         \u001b[39mand\u001b[39;00m \u001b[39many\u001b[39m(\u001b[39misinstance\u001b[39m(x, \u001b[39mslice\u001b[39m) \u001b[39mfor\u001b[39;00m x \u001b[39min\u001b[39;00m casted_key)\n\u001b[1;32m   3795\u001b[0m     ):\n\u001b[1;32m   3796\u001b[0m         \u001b[39mraise\u001b[39;00m InvalidIndexError(key)\n\u001b[0;32m-> 3797\u001b[0m     \u001b[39mraise\u001b[39;00m \u001b[39mKeyError\u001b[39;00m(key) \u001b[39mfrom\u001b[39;00m \u001b[39merr\u001b[39;00m\n\u001b[1;32m   3798\u001b[0m \u001b[39mexcept\u001b[39;00m \u001b[39mTypeError\u001b[39;00m:\n\u001b[1;32m   3799\u001b[0m     \u001b[39m# If we have a listlike key, _check_indexing_error will raise\u001b[39;00m\n\u001b[1;32m   3800\u001b[0m     \u001b[39m#  InvalidIndexError. Otherwise we fall through and re-raise\u001b[39;00m\n\u001b[1;32m   3801\u001b[0m     \u001b[39m#  the TypeError.\u001b[39;00m\n\u001b[1;32m   3802\u001b[0m     \u001b[39mself\u001b[39m\u001b[39m.\u001b[39m_check_indexing_error(key)\n",
      "\u001b[0;31mKeyError\u001b[0m: 'y50000'"
     ]
    },
    {
     "data": {
      "image/png": "[encoded data removed]",
      "text/plain": [
       "<Figure size 640x480 with 1 Axes>"
      ]
     },
     "metadata": {},
     "output_type": "display_data"
    }
   ],
   "source": [
    "fig, ax = plt.subplots()\n",
    "\n",
    "transpose = df.transpose()\n",
    "transpose = transpose.dropna()\n",
    "\n",
    "print(transpose)\n",
    "\n",
    "x = transpose[\"length\"]\n",
    "y1 = transpose[\"y0\"]\n",
    "y5 = transpose[\"y5000\"]\n",
    "y10 = transpose[\"y10000\"]\n",
    "\n",
    "plt.plot(x,y1)\n",
    "plt.plot(x,y5)\n",
    "plt.plot(x,y10)\n",
    "plt.xlabel('length')\n",
    "plt.ylabel('concentration')\n",
    "plt.tight_layout()"
   ]
  }
 ],
 "metadata": {
  "kernelspec": {
   "display_name": "Python 3",
   "language": "python",
   "name": "python3"
  },
  "language_info": {
   "codemirror_mode": {
    "name": "ipython",
    "version": 3
   },
   "file_extension": ".py",
   "mimetype": "text/x-python",
   "name": "python",
   "nbconvert_exporter": "python",
   "pygments_lexer": "ipython3",
   "version": "3.9.6"
  },
  "orig_nbformat": 4
 },
 "nbformat": 4,
 "nbformat_minor": 2
}
