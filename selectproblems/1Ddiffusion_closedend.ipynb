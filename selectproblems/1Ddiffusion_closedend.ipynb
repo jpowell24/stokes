{
 "cells": [
  {
   "cell_type": "code",
   "execution_count": null,
   "metadata": {},
   "outputs": [],
   "source": [
    "import numpy as np\n",
    "import matplotlib.pyplot as plt"
   ]
  },
  {
   "cell_type": "code",
   "execution_count": null,
   "metadata": {},
   "outputs": [],
   "source": [
    "def calculate_diffusion(total_time, delta_T):\n",
    "\n",
    "    time_val = 0; \n",
    "\n",
    "    # defining variables\n",
    "    D_t = 250 * pow(10, -12); \n",
    "\n",
    "    temp_X, delta_X = 0, 0; \n",
    "    start_X = 0; \n",
    "\n",
    "    # starting point defined as (start_X, start_Y, start_Z)\n",
    "    X = np.array([start_X]); \n",
    "\n",
    "    # defining starting position of the particle\n",
    "    temp_X = start_X; \n",
    "\n",
    "    for time in np.arange(0, total_time - delta_T, delta_T): \n",
    "        if temp_X < 0.1 * pow(10,-6) and temp_X > -0.1 * pow(10,-6):\n",
    "            # randomly sampling noise in Gaussian distrib. with mean 0 and variance 1\n",
    "            W_X = np.random.normal(0, 1);            \n",
    "\n",
    "            # solving change in position for each dimension\n",
    "            delta_X = np.sqrt(2 * D_t * delta_T) * W_X; \n",
    "\n",
    "            # using a temporary variable to track position\n",
    "            temp_X += delta_X; \n",
    "\n",
    "            # appending new position to arrays storing position over time\n",
    "            X = np.append(X, [temp_X]); \n",
    "        else: \n",
    "            time_val = time; \n",
    "            return X, time_val, D_t; # returning coordinates and diffusion coefficient (for comparison later)\n",
    "\n",
    "    return X, time_val, D_t; # returning coordinates and diffusion coefficient (for comparison later)"
   ]
  },
  {
   "cell_type": "code",
   "execution_count": null,
   "metadata": {},
   "outputs": [],
   "source": [
    "# defining parameters for function and the number of times we want to run it\n",
    "trials = 1000; \n",
    "total_time = 20 * pow(10,-6); \n",
    "delta_T = 1 * pow(10,-8); \n",
    "\n",
    "stop_times = []; # list of times\n",
    "\n",
    "# running function <trials> times in order to gather average displacement values across random trials\n",
    "for N in range(0, trials, 1):\n",
    "    X, time_val, D_t = calculate_diffusion(total_time, delta_T); \n",
    "\n",
    "    if N == 0: # necessary to match all_X dimensions in subsequent N\n",
    "        stop_times = time_val; \n",
    "    else:\n",
    "        stop_times = np.vstack((stop_times, time_val)); # adding new vectors (X) to rows of all_X\n",
    "\n",
    "plt.plot(np.linspace(1, trials, trials), stop_times); \n",
    "plt.xlabel('trail'); \n",
    "plt.ylabel('stop time'); \n",
    "\n",
    "print(str(np.mean(stop_times)) + \" seconds\")\n",
    "\n",
    "plt.tight_layout(); \n",
    "plt.show(); "
   ]
  }
 ],
 "metadata": {
  "kernelspec": {
   "display_name": "Python 3",
   "language": "python",
   "name": "python3"
  },
  "language_info": {
   "codemirror_mode": {
    "name": "ipython",
    "version": 3
   },
   "file_extension": ".py",
   "mimetype": "text/x-python",
   "name": "python",
   "nbconvert_exporter": "python",
   "pygments_lexer": "ipython3",
   "version": "3.9.6"
  }
 },
 "nbformat": 4,
 "nbformat_minor": 2
}
