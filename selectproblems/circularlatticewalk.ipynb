{
 "cells": [
  {
   "cell_type": "code",
   "execution_count": null,
   "metadata": {},
   "outputs": [],
   "source": [
    "import pandas as pd\n",
    "import numpy as np\n",
    "import matplotlib.pyplot as plt\n",
    "import matplotlib.patches as mpatches\n",
    "color_list =[\"#3eb991\",\"#e9a820\",\"#e01563\",\"#edb196\",\"#6ecadc\",\"#1f94ac\",\"#ae9a6a\",\"#ccb8a6\",\"#343a44\"]\n",
    "import csv"
   ]
  },
  {
   "cell_type": "code",
   "execution_count": null,
   "metadata": {},
   "outputs": [],
   "source": [
    "# walk2d_df = pd.DataFrame(pd.read_csv(\"../data_files/randomwalk2d.csv\", index_col=0, header=None))\n",
    "df = pd.DataFrame(pd.read_csv(\"../data_files/circularlatticewalk.csv\"))\n",
    "# print(df)"
   ]
  },
  {
   "cell_type": "code",
   "execution_count": null,
   "metadata": {},
   "outputs": [],
   "source": [
    "fig, ax = plt.subplots()\n",
    "\n",
    "x = df[\"x\"]\n",
    "y = df[\"y\"]\n",
    "\n",
    "color = df[\"t\"] / max(df[\"t\"])\n",
    "\n",
    "for i in range(1, len(x)):\n",
    "    ax.plot(x[i - 1:i + 1], y[i - 1:i + 1], color=plt.cm.viridis(color[i]))\n",
    "\n",
    "t = \"path\"\n",
    "\n",
    "fig.colorbar(plt.cm.ScalarMappable(cmap=plt.cm.viridis), ax=ax).set_label('Temperature')\n",
    " \n",
    "plt.xlabel('x')\n",
    "plt.ylabel('y')\n",
    "ax.set_title(t)\n",
    "ax.set_aspect('equal', adjustable='box')\n",
    "plt.tight_layout()"
   ]
  },
  {
   "cell_type": "code",
   "execution_count": null,
   "metadata": {},
   "outputs": [],
   "source": [
    "j = df[\"x\"].to_numpy()\n",
    "\n",
    "plt.hist(j, bins = 50)\n",
    "plt.xlabel('x position')\n",
    "\n",
    "plt.show()"
   ]
  },
  {
   "cell_type": "code",
   "execution_count": null,
   "metadata": {},
   "outputs": [],
   "source": [
    "x = np.linspace(0, 10, 100)\n",
    "y = np.sin(x)\n",
    "color = np.linspace(0, 1, 100)\n",
    "#Assuming color varies between 0 and 1\n",
    "# Create a figure and axis\n",
    "fig, ax = plt.subplots ()\n",
    "# Iterate through the data and ploeach line segment with a specific color\n",
    "for i in range(1, len(x)):\n",
    "    ax.plot(x[i - 1:i + 1], y[i - 1:i + 1], color=plt.cm.viridis(color[i]), linewidth=2)\n",
    "# Add labels and a colorbar\n",
    "ax.set_xlabel('X-axis')\n",
    "ax.set_ylabel('Y-axis')\n",
    "# cbar = plt.colorbar(plt.cm.ScalarMappable(cmap=plt.cm.viridis))\n",
    "# cbar.set_label('Color')\n",
    "# Show the plot\n",
    "plt.show()"
   ]
  }
 ],
 "metadata": {
  "kernelspec": {
   "display_name": "Python 3",
   "language": "python",
   "name": "python3"
  },
  "language_info": {
   "codemirror_mode": {
    "name": "ipython",
    "version": 3
   },
   "file_extension": ".py",
   "mimetype": "text/x-python",
   "name": "python",
   "nbconvert_exporter": "python",
   "pygments_lexer": "ipython3",
   "version": "3.9.6"
  },
  "orig_nbformat": 4
 },
 "nbformat": 4,
 "nbformat_minor": 2
}
