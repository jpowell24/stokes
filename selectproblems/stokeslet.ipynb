{
 "cells": [
  {
   "cell_type": "code",
   "execution_count": null,
   "metadata": {},
   "outputs": [],
   "source": [
    "import math\n",
    "import pandas as pd\n",
    "import numpy as np\n",
    "import matplotlib.pyplot as plt\n",
    "import matplotlib.patches as mpatches\n",
    "\n",
    "color_list =[\"#3eb991\",\"#e9a820\",\"#e01563\",\"#edb196\",\"#6ecadc\",\"#1f94ac\",\"#ae9a6a\",\"#ccb8a6\",\"#343a44\"]"
   ]
  },
  {
   "cell_type": "code",
   "execution_count": null,
   "metadata": {},
   "outputs": [],
   "source": [
    "w = 2;\n",
    "y, x = np.mgrid[-w:w:100j, -w:w:100j];\n",
    "\n",
    "mu = 1;\n",
    "s = 1; \n",
    "\n",
    "r = pow((pow(x,2) + pow(y,2)),0.5);\n",
    "\n",
    "U = (1 / (8 * mu * math.pi)) * ((s / r) + ((s * x * x) / pow(r,3)));\n",
    "V = (1 / (8 * mu * math.pi)) * (x * y / pow(r,3));\n",
    "\n",
    "speed = np.sqrt(pow(U,2) + pow(V,2));\n",
    "\n",
    "plt.subplot(1, 2, 1) # row 1, col 2 index 1\n",
    "plt.streamplot(x, y, U, V, density = 1, color = \"green\", linewidth = 0.5);\n",
    "plt.gca().set_aspect('equal')\n",
    "\n",
    "U = U / np.sqrt(U**2 + V**2);\n",
    "V = V / np.sqrt(U**2 + V**2);\n",
    "\n",
    "plt.subplot(1, 2, 2) # row 1, col 2 index 1\n",
    "plt.quiver(x[::5, ::5], y[::5, ::5], U[::5, ::5], V[::5,::5])\n",
    "plt.gca().set_aspect('equal')\n",
    " \n",
    "plt.show()"
   ]
  }
 ],
 "metadata": {
  "kernelspec": {
   "display_name": "Python 3",
   "language": "python",
   "name": "python3"
  },
  "language_info": {
   "codemirror_mode": {
    "name": "ipython",
    "version": 3
   },
   "file_extension": ".py",
   "mimetype": "text/x-python",
   "name": "python",
   "nbconvert_exporter": "python",
   "pygments_lexer": "ipython3",
   "version": "3.9.6"
  },
  "orig_nbformat": 4
 },
 "nbformat": 4,
 "nbformat_minor": 2
}
