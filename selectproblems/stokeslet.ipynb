{
 "cells": [
  {
   "cell_type": "code",
   "execution_count": null,
   "metadata": {},
   "outputs": [],
   "source": [
    "import math\n",
    "import pandas as pd\n",
    "import numpy as np\n",
    "import matplotlib.pyplot as plt\n",
    "\n",
    "# Note: I wrote this in python, but as cpp-like as possible\n",
    "w = 2; # the dimensions of the grid\n",
    "y, x = np.mgrid[-w:w:100j, -w:w:100j]; # generating a grid with points = 100\n",
    "\n",
    "# defining parameters\n",
    "mu = 1; \n",
    "s = 1; \n",
    "r = pow((pow(x,2) + pow(y,2)),0.5); \n",
    "\n",
    "# defining the x and y vector components\n",
    "U = (1 / (8 * mu * math.pi)) * ((s / r) + ((s * x * x) / pow(r,3))); \n",
    "V = (1 / (8 * mu * math.pi)) * (x * y / pow(r,3)); \n",
    "\n",
    "speed = np.sqrt(pow(U,2) + pow(V,2)); # speed!\n",
    "\n",
    "# making a plot for streamlines\n",
    "plt.subplot(1, 2, 1); # putting plots on the same image, this at row 1, col 1, index 1\n",
    "plt.streamplot(x, y, U, V, density = 1, color = \"green\", linewidth = 0.5); # making streamlines\n",
    "plt.gca().set_aspect('equal'); \n",
    "\n",
    "# normalizing vectors to make the vector plot prettier\n",
    "U = U / speed; \n",
    "V = V / speed; \n",
    "\n",
    "plt.subplot(1, 2, 2);  # putting plots on the same image, this at row 1, col 2, index 1\n",
    "plt.quiver(x[::5, ::5], y[::5, ::5], U[::5, ::5], V[::5,::5]); # making vectors, skipping every 5 points\n",
    "plt.gca().set_aspect('equal'); \n",
    " \n",
    "plt.show()\n"
   ]
  }
 ],
 "metadata": {
  "kernelspec": {
   "display_name": "Python 3",
   "language": "python",
   "name": "python3"
  },
  "language_info": {
   "codemirror_mode": {
    "name": "ipython",
    "version": 3
   },
   "file_extension": ".py",
   "mimetype": "text/x-python",
   "name": "python",
   "nbconvert_exporter": "python",
   "pygments_lexer": "ipython3",
   "version": "3.9.6"
  },
  "orig_nbformat": 4
 },
 "nbformat": 4,
 "nbformat_minor": 2
}
