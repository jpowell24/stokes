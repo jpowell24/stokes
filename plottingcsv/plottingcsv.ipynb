{
 "cells": [
  {
   "cell_type": "code",
   "execution_count": null,
   "metadata": {},
   "outputs": [],
   "source": [
    "import pandas as pd\n",
    "import numpy as np\n",
    "import seaborn as sns\n",
    "import matplotlib.pyplot as plt\n",
    "\n",
    "import math\n",
    "\n",
    "from scipy import spatial\n",
    "\n",
    "color_list =[\"#3eb991\",\"#e9a820\",\"#e01563\",\"#edb196\",\"#6ecadc\",\"#1f94ac\",\"#ae9a6a\",\"#ccb8a6\",\"#343a44\"]"
   ]
  },
  {
   "cell_type": "code",
   "execution_count": null,
   "metadata": {},
   "outputs": [],
   "source": [
    "df = pd.read_csv('/Users/jacksonpowell/Documents/courses/fall2023/phys3364 TA/csvplots/precompVin.csv')\n",
    "\n",
    "df = df.drop(df.columns[2], axis=1)\n",
    "\n",
    "df2 = df.iloc[0:300]\n",
    "\n",
    "df2['Time'] = df2['Time'] * 1000\n",
    "\n",
    "print(df2)\n",
    "\n",
    "df2.plot(x='Time', y='V(Vin)', ylim=[-2,2], color=\"black\", ylabel=\"Vin [Volts]\", xlabel=\"time [milliseconds]\", legend=None)\n",
    "plt.gca().set_aspect(0.5)\n"
   ]
  },
  {
   "cell_type": "code",
   "execution_count": null,
   "metadata": {},
   "outputs": [],
   "source": [
    "df = pd.read_csv('/Users/jacksonpowell/Documents/courses/fall2023/phys3364 TA/csvplots/posfeedback.csv')\n",
    "\n",
    "df = df.drop(df.columns[2], axis=1)\n",
    "\n",
    "df2 = df.iloc[0:300]\n",
    "\n",
    "df2['Time'] = df2['Time'] * 1000\n",
    "\n",
    "print(df2)\n",
    "\n",
    "df2.plot(x='Time', y='V(V2.nA)', ylim=[-20,20], color=\"black\", ylabel=\"Vout [Volts]\", xlabel=\"time [arb. units]\", legend=None)\n",
    "# plt.gca().set_aspect('equal')\n"
   ]
  }
 ],
 "metadata": {
  "kernelspec": {
   "display_name": "Python 3",
   "language": "python",
   "name": "python3"
  },
  "language_info": {
   "codemirror_mode": {
    "name": "ipython",
    "version": 3
   },
   "file_extension": ".py",
   "mimetype": "text/x-python",
   "name": "python",
   "nbconvert_exporter": "python",
   "pygments_lexer": "ipython3",
   "version": "3.9.6"
  }
 },
 "nbformat": 4,
 "nbformat_minor": 2
}
