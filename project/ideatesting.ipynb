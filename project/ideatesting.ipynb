{
 "cells": [
  {
   "cell_type": "code",
   "execution_count": 188,
   "metadata": {},
   "outputs": [],
   "source": [
    "import pandas as pd\n",
    "import numpy as np\n",
    "from numpy import random\n",
    "import matplotlib.pyplot as plt\n",
    "import math\n",
    "from mpl_toolkits import mplot3d\n",
    "\n",
    "color_list =[\"#3eb991\",\"#e9a820\",\"#e01563\",\"#edb196\",\"#6ecadc\",\"#1f94ac\",\"#ae9a6a\",\"#ccb8a6\",\"#343a44\"]"
   ]
  },
  {
   "cell_type": "code",
   "execution_count": 189,
   "metadata": {},
   "outputs": [],
   "source": [
    "# defining function for diffusion in 3D over time\n",
    "def calculate_diffusion(total_time, delta_T):\n",
    "    \n",
    "    # defining variables\n",
    "    v = 1 * pow(10, -6); \n",
    "    omega = 0; \n",
    "    D_r = 0.05; \n",
    "    D_t = 0.1 * pow(10, -12); \n",
    "\n",
    "    temp_X, temp_Y, delta_X, delta_Y = 0, 0, 0, 0; \n",
    "    start_X, start_Y = 0, 0; \n",
    "\n",
    "    temp_theta, delta_theta = 0, 0; \n",
    "    start_theta = 0; \n",
    "\n",
    "    # starting point defined as (start_X, start_Y, start_Z)\n",
    "    X = np.array([start_X]); \n",
    "    Y = np.array([start_Y]); \n",
    "    theta = np.array([start_theta]); \n",
    "\n",
    "    # defining starting position of the particle\n",
    "    temp_X = start_X; \n",
    "    temp_Y = start_Y; \n",
    "    temp_theta = start_theta; \n",
    "\n",
    "    for time in np.arange(0, total_time - delta_T, delta_T): \n",
    "\n",
    "        # randomly sampling in a uniform distribution from 0 to 1 to get an angle\n",
    "        W_theta = (math.pi / 2) * random.uniform(-1, 1); \n",
    "\n",
    "        # randomly sampling noise in Gaussian distrib. with mean 0 and variance 1\n",
    "        W_X = np.random.normal(0, 1); \n",
    "        W_Y = np.random.normal(0, 1); \n",
    "\n",
    "        # solving change in position for each dimension\n",
    "        delta_X = v * np.cos(temp_theta) * delta_T + np.sqrt(2 * D_t * delta_T) * W_X; \n",
    "        delta_Y = v * np.sin(temp_theta) * delta_T + np.sqrt(2 * D_t * delta_T) * W_Y; \n",
    "\n",
    "        # solving change in each angle\n",
    "        delta_theta = omega * delta_T + np.sqrt(2 * D_r * delta_T) * W_theta; \n",
    "\n",
    "        # using a temporary variable to track position and angle\n",
    "        temp_X += delta_X; \n",
    "        temp_Y += delta_Y; \n",
    "        temp_theta += delta_theta; \n",
    "\n",
    "        # appending new position to arrays storing position over time\n",
    "        X = np.append(X, [temp_X]); \n",
    "        Y = np.append(Y, [temp_Y]); \n",
    "    \n",
    "    return X, Y, D_t; # returning coordinates and diffusion coefficient (for comparison later)"
   ]
  },
  {
   "cell_type": "code",
   "execution_count": 190,
   "metadata": {},
   "outputs": [],
   "source": [
    "# defining function for diffusion in 3D over time\n",
    "def single_step(X, Y, theta, delta_T):\n",
    "    \n",
    "    # defining variables\n",
    "    v = 1 * pow(10, -6); \n",
    "    omega = 0; \n",
    "    D_r = 0.05; \n",
    "    D_t = 0.1 * pow(10, -12); \n",
    "\n",
    "    delta_X, delta_Y = 0, 0; \n",
    "    delta_theta = 0; \n",
    "\n",
    "    # randomly sampling in a uniform distribution from 0 to 1 to get an angle\n",
    "    W_theta = (math.pi / 2) * random.uniform(-1, 1); \n",
    "\n",
    "    # randomly sampling noise in Gaussian distrib. with mean 0 and variance 1\n",
    "    W_X = np.random.normal(0, 1); \n",
    "    W_Y = np.random.normal(0, 1); \n",
    "\n",
    "    # solving change in position for each dimension\n",
    "    delta_X = v * np.cos(theta) * delta_T + np.sqrt(2 * D_t * delta_T) * W_X; \n",
    "    delta_Y = v * np.sin(theta) * delta_T + np.sqrt(2 * D_t * delta_T) * W_Y; \n",
    "\n",
    "    # solving change in each angle\n",
    "    delta_theta = omega * delta_T + np.sqrt(2 * D_r * delta_T) * W_theta; \n",
    "\n",
    "    # using a temporary variable to track position and angle\n",
    "    X += delta_X; \n",
    "    Y += delta_Y; \n",
    "    theta += delta_theta; \n",
    "    \n",
    "    return X, Y, theta; # returning coordinates and diffusion coefficient (for comparison later)"
   ]
  },
  {
   "cell_type": "code",
   "execution_count": 191,
   "metadata": {},
   "outputs": [],
   "source": [
    "def addnew(x): \n",
    "    X = [0]; \n",
    "    Y = [0]; \n",
    "    theta = [0]; \n",
    "    return 0; "
   ]
  },
  {
   "cell_type": "code",
   "execution_count": 192,
   "metadata": {},
   "outputs": [],
   "source": [
    "class makeSwimmer:\n",
    "  def __init__(self, x, y, theta):\n",
    "    self.x = x; \n",
    "    self.y = y; \n",
    "    self.theta = theta; \n",
    "    self.position = [x, y, theta]; "
   ]
  },
  {
   "cell_type": "code",
   "execution_count": 193,
   "metadata": {},
   "outputs": [
    {
     "name": "stdout",
     "output_type": "stream",
     "text": [
      "<__main__.makeSwimmer object at 0x14ff8af40>\n"
     ]
    }
   ],
   "source": [
    "swimmerList = []; \n",
    "Swimmers = [makeSwimmer(0, 0, 0) for i in range(10)]\n",
    "for Swimmer in Swimmers:\n",
    "    swimmerList.append(Swimmer); \n",
    "\n",
    "print(swimmerList[0]); "
   ]
  },
  {
   "cell_type": "code",
   "execution_count": 194,
   "metadata": {},
   "outputs": [
    {
     "name": "stdout",
     "output_type": "stream",
     "text": [
      "(3, 1, 1)\n",
      "(3, 1)\n",
      "(3, 1, 2)\n"
     ]
    }
   ],
   "source": [
    "total_time = 1; \n",
    "delta_T = 0.1; \n",
    "indexed_time = int(total_time / delta_T); \n",
    "\n",
    "X = [0]; \n",
    "Y = [0]; \n",
    "theta = [0]; \n",
    "\n",
    "evolution = np.zeros((3, 1, 1)); \n",
    "print(evolution.shape); \n",
    "\n",
    "temp_N = np.zeros((3, 1)); \n",
    "print(temp_N.shape); \n",
    "\n",
    "evolution = np.dstack((evolution, temp_N)); \n",
    "print(evolution.shape); \n",
    "\n",
    "\n",
    "\n",
    "counter = 0; \n",
    "for i in np.arange(0, total_time, delta_T):\n",
    "    temp_X, temp_Y, temp_theta = single_step(X[counter], Y[counter], theta[counter], delta_T); \n",
    "    X = np.append(X, [temp_X]); \n",
    "    Y = np.append(Y, [temp_Y]); \n",
    "    theta = np.append(theta, [temp_theta]); \n",
    "    counter += 1; \n",
    "\n",
    "\n",
    "\n",
    "\n",
    "\n",
    "\n",
    "# 2D graphing definitions \n",
    "# fig, ax = plt.subplots()\n",
    "\n",
    "# plt.tight_layout(); \n",
    "\n",
    "# plt.plot(X, Y, color_list[2]); # graphing line using color in colorlist (defined in the includes)\n",
    "\n",
    "# plt.xlabel('x')\n",
    "# plt.ylabel('y')\n",
    "# ax.set_title(\"path\")\n",
    "# ax.set_aspect('equal', adjustable='box')\n",
    "# plt.tight_layout()"
   ]
  },
  {
   "cell_type": "code",
   "execution_count": null,
   "metadata": {},
   "outputs": [],
   "source": []
  }
 ],
 "metadata": {
  "kernelspec": {
   "display_name": "Python 3",
   "language": "python",
   "name": "python3"
  },
  "language_info": {
   "codemirror_mode": {
    "name": "ipython",
    "version": 3
   },
   "file_extension": ".py",
   "mimetype": "text/x-python",
   "name": "python",
   "nbconvert_exporter": "python",
   "pygments_lexer": "ipython3",
   "version": "3.9.6"
  }
 },
 "nbformat": 4,
 "nbformat_minor": 2
}
