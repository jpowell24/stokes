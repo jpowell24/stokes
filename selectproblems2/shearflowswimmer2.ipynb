{
 "cells": [
  {
   "cell_type": "code",
   "execution_count": null,
   "metadata": {},
   "outputs": [],
   "source": [
    "import pandas as pd\n",
    "import numpy as np\n",
    "from numpy import random\n",
    "import matplotlib.pyplot as plt\n",
    "import math\n",
    "from mpl_toolkits import mplot3d\n",
    "\n",
    "color_list =[\"#3eb991\",\"#e9a820\",\"#e01563\",\"#edb196\",\"#6ecadc\",\"#1f94ac\",\"#ae9a6a\",\"#ccb8a6\",\"#343a44\"]"
   ]
  },
  {
   "cell_type": "code",
   "execution_count": null,
   "metadata": {},
   "outputs": [],
   "source": [
    "w = 3;   \n",
    "\n",
    "v = 1;   \n",
    "gamma = -0.5;   \n",
    "\n",
    "Y_start = 1;   \n",
    "X_start = 0;   \n",
    "\n",
    "theta_start = 0;   \n",
    "\n",
    "Y, X = np.mgrid[-w:w:100j, -w:w:100j];   \n",
    "\n",
    "Y = (2 * v / gamma) * np.cos(-0.5 * gamma + theta_start) + Y_start;   \n",
    "X = -(6 * v / gamma) * np.sin(-0.5 * gamma + theta_start) + gamma * Y_start + X_start;   \n",
    "\n",
    "fig, ax = plt.subplots()\n",
    "\n",
    "plt.tight_layout();   \n",
    "\n",
    "plt.plot(X, Y, color_list[2]);   # graphing line using color in colorlist (defined in the includes)\n",
    "\n",
    "plt.xlabel('x')\n",
    "plt.ylabel('y')\n",
    "ax.set_title(\"path\")\n",
    "ax.set_aspect('equal', adjustable='box')\n",
    "plt.tight_layout()\n",
    "\n",
    "print(X);   \n"
   ]
  },
  {
   "cell_type": "code",
   "execution_count": null,
   "metadata": {},
   "outputs": [],
   "source": [
    "#fig, ax = plt.subplots()\n",
    "w = 3;   \n",
    "y, x = np.mgrid[-w:w:100j, -w:w:100j];   \n",
    "\n",
    "mu = 0.1;   \n",
    "d = 1;    \n",
    "\n",
    "r = pow((pow(x,2) + pow(y,2)),0.5);   \n",
    "\n",
    "U = (d / (4 * math.pi)) * (1 / pow(r,3) - (3 * x * x) / pow(r,5));   \n",
    "V = (d / (4 * math.pi)) * (-3 * x * y / pow(r,5));   \n",
    "\n",
    "speed = np.sqrt(pow(U,2) + pow(V,2));   \n",
    "\n",
    "# making a plot for streamlines\n",
    "plt.subplot(1, 2, 1);   # putting plots on the same image, this at row 1, col 1, index 1\n",
    "plt.streamplot(x, y, U, V, density = 1, color = \"green\", linewidth = 0.5);   # making streamlines\n",
    "plt.gca().set_aspect('equal');   \n",
    "\n",
    "# normalizing vectors to make the vector plot prettier\n",
    "U = U / speed;   \n",
    "V = V / speed;   \n",
    "\n",
    "plt.subplot(1, 2, 2);    # putting plots on the same image, this at row 1, col 2, index 1\n",
    "plt.quiver(x[::5, ::5], y[::5, ::5], U[::5, ::5], V[::5,::5]);   # making vectors, skipping every 5 points\n",
    "plt.gca().set_aspect('equal');   \n",
    "\n",
    "plt.tight_layout()\n",
    "plt.show()"
   ]
  }
 ],
 "metadata": {
  "kernelspec": {
   "display_name": "Python 3",
   "language": "python",
   "name": "python3"
  },
  "language_info": {
   "codemirror_mode": {
    "name": "ipython",
    "version": 3
   },
   "file_extension": ".py",
   "mimetype": "text/x-python",
   "name": "python",
   "nbconvert_exporter": "python",
   "pygments_lexer": "ipython3",
   "version": "3.9.6"
  },
  "orig_nbformat": 4
 },
 "nbformat": 4,
 "nbformat_minor": 2
}
