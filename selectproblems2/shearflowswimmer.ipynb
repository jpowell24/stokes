{
 "cells": [
  {
   "cell_type": "code",
   "execution_count": null,
   "metadata": {},
   "outputs": [],
   "source": [
    "import pandas as pd\n",
    "import numpy as np\n",
    "from numpy import random\n",
    "import matplotlib.pyplot as plt\n",
    "import math\n",
    "from mpl_toolkits import mplot3d\n",
    "\n",
    "color_list =[\"#3eb991\",\"#e9a820\",\"#e01563\",\"#edb196\",\"#6ecadc\",\"#1f94ac\",\"#ae9a6a\",\"#ccb8a6\",\"#343a44\"]"
   ]
  },
  {
   "cell_type": "code",
   "execution_count": null,
   "metadata": {},
   "outputs": [],
   "source": [
    "# defining function for diffusion in 3D over time\n",
    "def calculate_diffusion(total_time, delta_T):\n",
    "    \n",
    "    # defining variables\n",
    "    v = 1; \n",
    "    gamma = -1; \n",
    "\n",
    "    temp_X, temp_Y, delta_X, delta_Y = 0, 0, 0, 0; \n",
    "    start_X, start_Y = 0, 1; \n",
    "\n",
    "    temp_theta, delta_theta = 0, 0; \n",
    "    start_theta = 0; \n",
    "\n",
    "    # starting point defined as (start_X, start_Y, start_Z)\n",
    "    X = np.array([start_X]); \n",
    "    Y = np.array([start_Y]); \n",
    "    theta = np.array([start_theta]); \n",
    "\n",
    "    # defining starting position of the particle\n",
    "    temp_X = start_X; \n",
    "    temp_Y = start_Y; \n",
    "    temp_theta = start_theta; \n",
    "\n",
    "    index = 0; \n",
    "\n",
    "    omega = 0.75; \n",
    "\n",
    "    for time in np.arange(0, total_time - delta_T, delta_T): \n",
    "\n",
    "        # solving change in position for each dimension\n",
    "        delta_X = v * delta_T * np.cos(0.5 * gamma * time + omega + start_theta) + gamma * Y[index]; \n",
    "        delta_Y = v * delta_T * np.sin(0.5 * gamma * time + omega + start_theta); \n",
    "\n",
    "        # using a temporary variable to track position and angle\n",
    "        temp_X += delta_X; \n",
    "        temp_Y += delta_Y; \n",
    "        temp_theta += delta_theta; \n",
    "\n",
    "        # appending new position to arrays storing position over time\n",
    "        X = np.append(X, [temp_X]); \n",
    "        Y = np.append(Y, [temp_Y]); \n",
    "    \n",
    "        index += 1; \n",
    "    \n",
    "    return X, Y; # returning coordinates and diffusion coefficient (for comparison later)"
   ]
  },
  {
   "cell_type": "code",
   "execution_count": null,
   "metadata": {},
   "outputs": [],
   "source": [
    "# defining variables to pass into our function\n",
    "total_time = 50; \n",
    "delta_T = 0.1; \n",
    "\n",
    "# storing objects returned by function\n",
    "X, Y = calculate_diffusion(total_time, delta_T); \n",
    "\n",
    "# 3D graphing definitions \n",
    "fig, ax = plt.subplots()\n",
    "\n",
    "plt.tight_layout(); \n",
    "\n",
    "plt.plot(X, Y, color_list[2]); # graphing line using color in colorlist (defined in the includes)\n",
    "\n",
    "plt.xlabel('x')\n",
    "plt.ylabel('y')\n",
    "ax.set_title(\"path\")\n",
    "plt.tight_layout()\n",
    "\n",
    "print(X); "
   ]
  }
 ],
 "metadata": {
  "kernelspec": {
   "display_name": "Python 3",
   "language": "python",
   "name": "python3"
  },
  "language_info": {
   "codemirror_mode": {
    "name": "ipython",
    "version": 3
   },
   "file_extension": ".py",
   "mimetype": "text/x-python",
   "name": "python",
   "nbconvert_exporter": "python",
   "pygments_lexer": "ipython3",
   "version": "3.9.6"
  },
  "orig_nbformat": 4
 },
 "nbformat": 4,
 "nbformat_minor": 2
}
