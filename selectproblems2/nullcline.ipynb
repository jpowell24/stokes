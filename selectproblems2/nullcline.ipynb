{
 "cells": [
  {
   "cell_type": "code",
   "execution_count": null,
   "metadata": {},
   "outputs": [],
   "source": [
    "import pandas as pd\n",
    "import numpy as np\n",
    "from numpy import random\n",
    "import matplotlib.pyplot as plt\n",
    "import math\n",
    "from mpl_toolkits import mplot3d\n",
    "\n",
    "color_list =[\"#3eb991\",\"#e9a820\",\"#e01563\",\"#edb196\",\"#6ecadc\",\"#1f94ac\",\"#ae9a6a\",\"#ccb8a6\",\"#343a44\"]"
   ]
  },
  {
   "cell_type": "code",
   "execution_count": null,
   "metadata": {},
   "outputs": [],
   "source": [
    "#fig, ax = plt.subplots()\n",
    "w = 1.5; \n",
    "N_one, N_two = np.mgrid[0:w:100j, 0:w:100j]; \n",
    " \n",
    "B_one = 0.9; \n",
    "B_two = 1.1; \n",
    "\n",
    "rho = 1.1; \n",
    "\n",
    "dN_one = N_one * (1 - N_one - B_one * N_two); \n",
    "dN_two = rho * N_two * (1 - N_two - B_two * N_one); \n",
    "\n",
    "vector = np.sqrt(pow(dN_one,2) + pow(dN_two,2)); \n",
    "\n",
    "x = []; \n",
    "y = []; \n",
    "\n",
    "for i in np.arange(0,w,0.01):\n",
    "    for j in np.arange(0,w,0.01):\n",
    "        bool_one = (i * (1 - i - B_one * j) <= 0.01) and (i * (1 - i - B_one * j) >= -0.01); \n",
    "        bool_two = (rho * j * (1 - j - B_two * i) <= 0.01) and (rho * j * (1 - j - B_two * i) >= -0.01);  \n",
    "        if  bool_one and bool_two:\n",
    "            x.append(i); \n",
    "            y.append(j); \n",
    "\n",
    "# making a plot for streamlines\n",
    "# plt.subplot(1, 2, 1); # putting plots on the same image, this at row 1, col 1, index 1\n",
    "# plt.streamplot(N_one, N_two, dN_one, dN_two, density = 1, color = \"green\", linewidth = 0.5); # making streamlines\n",
    "# plt.gca().set_aspect('equal'); \n",
    "\n",
    "# normalizing vectors to make the vector plot prettier\n",
    "\n",
    "dN_one = dN_one / vector; \n",
    "dN_two = dN_two / vector; \n",
    "\n",
    "plt.subplot(1, 2, 2);  # putting plots on the same image, this at row 1, col 2, index 1\n",
    "plt.quiver(N_one[::5, ::5], N_two[::5, ::5], dN_one[::5, ::5], dN_two[::5,::5]); # making vectors, skipping every 5 points\n",
    "plt.plot(x, y)\n",
    "plt.gca().set_aspect('equal'); \n",
    "\n",
    "plt.tight_layout()\n",
    "plt.show()\n",
    "\n"
   ]
  },
  {
   "cell_type": "code",
   "execution_count": null,
   "metadata": {},
   "outputs": [],
   "source": [
    "w = 1.5; \n",
    "f, g = np.mgrid[-w:w:100j, -w:w:100j]; \n",
    "\n",
    "d_f = g; \n",
    "\n",
    "c = 3;  \n",
    "d_g = -c * g - f * (1 - f); \n",
    "\n",
    "x = []; \n",
    "y = []; \n",
    "for i in np.arange(0,w,0.001):\n",
    "    for j in np.arange(0,w,0.001):\n",
    "        d_x = j; \n",
    "        d_y = -c * j - i * (1 - i); \n",
    "        bool_one = (d_x <= 0.001) and (d_x >= -0.001); \n",
    "        bool_two = (d_y <= 0.001) and (d_y >= -0.001);  \n",
    "        if(bool_one and bool_two):\n",
    "            x = np.append(x, i); \n",
    "            y = np.append(y, j); \n",
    "\n",
    "vector = np.sqrt(1 + pow((pow(f,2) + pow(g,2) - 1), 2)); \n",
    "\n",
    "plt.quiver(f[::5, ::5], g[::5, ::5], d_f[::5, ::5], d_g[::5, ::5]); # making vectors, skipping every 5 points\n",
    "plt.plot(x, y)\n",
    "plt.gca().set_aspect('equal'); \n",
    "\n",
    "plt.tight_layout()\n",
    "plt.show()\n"
   ]
  }
 ],
 "metadata": {
  "kernelspec": {
   "display_name": "Python 3",
   "language": "python",
   "name": "python3"
  },
  "language_info": {
   "codemirror_mode": {
    "name": "ipython",
    "version": 3
   },
   "file_extension": ".py",
   "mimetype": "text/x-python",
   "name": "python",
   "nbconvert_exporter": "python",
   "pygments_lexer": "ipython3",
   "version": "3.9.6"
  }
 },
 "nbformat": 4,
 "nbformat_minor": 2
}
