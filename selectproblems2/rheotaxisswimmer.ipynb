{
 "cells": [
  {
   "cell_type": "code",
   "execution_count": null,
   "metadata": {},
   "outputs": [],
   "source": [
    "import pandas as pd\n",
    "import numpy as np\n",
    "from numpy import random\n",
    "import matplotlib.pyplot as plt\n",
    "import math\n",
    "from mpl_toolkits import mplot3d\n",
    "\n",
    "color_list =[\"#3eb991\",\"#e9a820\",\"#e01563\",\"#edb196\",\"#6ecadc\",\"#1f94ac\",\"#ae9a6a\",\"#ccb8a6\",\"#343a44\"]"
   ]
  },
  {
   "cell_type": "code",
   "execution_count": null,
   "metadata": {},
   "outputs": [],
   "source": [
    "w = 0.25; \n",
    "omega = -1; \n",
    "gamma_dot = 1; \n",
    "theta = np.pi; \n",
    "v_0 = 10 * pow(10, -6); \n",
    "\n",
    "h = 1 * pow(10, -6); \n",
    "\n",
    "D_r = 0;  \n",
    "\n",
    "X, Y = 0, 0; \n",
    "\n",
    "X_coord = []; \n",
    "Y_coord = []; \n",
    "\n",
    "delta_T = 0.1; \n",
    "total_time = 10; \n",
    "\n",
    "for i in np.arange(0, total_time, delta_T): \n",
    "    noise_r = np.random.normal(0, 1); \n",
    "\n",
    "    omega_vw = -omega * gamma_dot * np.sin(theta); \n",
    "    delta_theta = -omega_vw * gamma_dot * np.sin(theta) * delta_T + np.sqrt(2 * D_r * delta_T) * noise_r; \n",
    "\n",
    "    print(delta_theta); \n",
    "\n",
    "    theta = theta + delta_theta; \n",
    "\n",
    "    delta_X = v_0 * np.cos(theta) - gamma_dot * h; \n",
    "    delta_Y = v_0 * np.sin(theta); \n",
    "\n",
    "    X = X + delta_X; \n",
    "    Y = Y + delta_Y; \n",
    "\n",
    "    X_coord = np.append(X_coord, X); \n",
    "    Y_coord = np.append(Y_coord, Y); \n",
    "\n",
    "fig, ax = plt.subplots()\n",
    "\n",
    "plt.tight_layout(); \n",
    "\n",
    "plt.plot(X_coord, Y_coord, color_list[2]); # graphing line using color in colorlist (defined in the includes)\n",
    "\n",
    "plt.xlabel('x')\n",
    "plt.ylabel('y')\n",
    "ax.set_title(\"path\")\n",
    "ax.set_aspect('equal', adjustable='box')\n",
    "plt.tight_layout()\n",
    "\n",
    "\n"
   ]
  }
 ],
 "metadata": {
  "kernelspec": {
   "display_name": "Python 3",
   "language": "python",
   "name": "python3"
  },
  "language_info": {
   "codemirror_mode": {
    "name": "ipython",
    "version": 3
   },
   "file_extension": ".py",
   "mimetype": "text/x-python",
   "name": "python",
   "nbconvert_exporter": "python",
   "pygments_lexer": "ipython3",
   "version": "3.9.6"
  }
 },
 "nbformat": 4,
 "nbformat_minor": 2
}
