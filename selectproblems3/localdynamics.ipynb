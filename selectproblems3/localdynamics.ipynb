{
 "cells": [
  {
   "cell_type": "code",
   "execution_count": 63,
   "metadata": {},
   "outputs": [],
   "source": [
    "import pandas as pd\n",
    "import numpy as np\n",
    "from numpy import random\n",
    "import matplotlib.pyplot as plt\n",
    "import math\n",
    "from mpl_toolkits import mplot3d\n",
    "\n",
    "color_list =[\"#3eb991\",\"#e9a820\",\"#e01563\",\"#edb196\",\"#6ecadc\",\"#1f94ac\",\"#ae9a6a\",\"#ccb8a6\",\"#343a44\"]"
   ]
  },
  {
   "cell_type": "code",
   "execution_count": 64,
   "metadata": {},
   "outputs": [
    {
     "name": "stderr",
     "output_type": "stream",
     "text": [
      "/var/folders/rv/25_n51191438rcq9n5gyvwcm0000gn/T/ipykernel_74838/1718748454.py:23: RuntimeWarning: invalid value encountered in scalar divide\n",
      "  dotx = i * (x_e - (j)/(i + j) - (i - j));\n"
     ]
    },
    {
     "data": {
      "image/png": "[encoded data removed]",
      "text/plain": [
       "<Figure size 640x480 with 1 Axes>"
      ]
     },
     "metadata": {},
     "output_type": "display_data"
    }
   ],
   "source": [
    "w = 1.5; \n",
    "f, g = np.mgrid[0:w:100j, 0:w:100j]; \n",
    "\n",
    "d = 0.2; \n",
    "r = 0.3; \n",
    "lam = 0.9; \n",
    "mu = 1.1; \n",
    "\n",
    "x_e = 1 - (d / r); \n",
    "y_e = lam - mu * (d / r); \n",
    "\n",
    "x = []; \n",
    "y = []; \n",
    "\n",
    "u = []; \n",
    "v = []; \n",
    "\n",
    "# dotx = x * (x_e - (y)/(x + y) - (x - y)); \n",
    "# doty = y * (y_e - (x + y)); \n",
    "\n",
    "for i in np.arange(0,w,0.001):\n",
    "    for j in np.arange(0,w,0.001):\n",
    "        dotx = i * (x_e - (j)/(i + j) - (i - j)); \n",
    "        doty = j * (y_e - (i + j)); \n",
    "        bool_one = (dotx <= 0.001) and (dotx >= -0.001); \n",
    "        bool_two = (doty <= 0.001) and (doty >= -0.001);  \n",
    "        if(bool_one and bool_two):\n",
    "            x = np.append(x, i); \n",
    "            y = np.append(y, j); \n",
    "        if(bool_two):\n",
    "            u = np.append(u, i); \n",
    "            v = np.append(v, j); \n",
    "            \n",
    "\n",
    "# vector = np.sqrt(1 + pow((pow(f,2) + pow(g,2) - 1), 2)); \n",
    "\n",
    "xaxis = np.arange(-w, w, 2 * w / 100)\n",
    "yaxis = np.arange(-w, w, 2 * w / 100)\n",
    "\n",
    "#  \n",
    "\n",
    "# making a plot for streamlines\n",
    "# plt.subplot(1, 2, 1); # putting plots on the same image, this at row 1, col 1, index 1\n",
    "# plt.streamplot(xaxis, yaxis, d_f, d_g, density = 1, color = \"green\", linewidth = 0.5); # making streamlines\n",
    "# plt.gca().set_aspect('equal'); \n",
    "\n",
    "plt.subplot(1, 2, 2);  # putting plots on the same image, this at row 1, col 2, index 1\n",
    "# plt.quiver(f[::5, ::5], g[::5, ::5], dotx[::5, ::5], doty[::5, ::5]); # making vectors, skipping every 5 points\n",
    "plt.plot(x, y); \n",
    "# plt.plot(u, v); \n",
    "plt.gca().set_aspect('equal'); \n",
    "plt.xlabel('x')\n",
    "plt.ylabel('y'); \n",
    "\n",
    "plt.tight_layout()\n",
    "plt.show()\n"
   ]
  }
 ],
 "metadata": {
  "kernelspec": {
   "display_name": "Python 3",
   "language": "python",
   "name": "python3"
  },
  "language_info": {
   "codemirror_mode": {
    "name": "ipython",
    "version": 3
   },
   "file_extension": ".py",
   "mimetype": "text/x-python",
   "name": "python",
   "nbconvert_exporter": "python",
   "pygments_lexer": "ipython3",
   "version": "3.9.6"
  }
 },
 "nbformat": 4,
 "nbformat_minor": 2
}
